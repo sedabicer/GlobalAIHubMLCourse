{
  "nbformat": 4,
  "nbformat_minor": 0,
  "metadata": {
    "colab": {
      "name": "Homework-3.ipynb",
      "provenance": [],
      "authorship_tag": "ABX9TyPdJ47J170NWSUM3BoMTPoN",
      "include_colab_link": true
    },
    "kernelspec": {
      "name": "python3",
      "display_name": "Python 3"
    }
  },
  "cells": [
    {
      "cell_type": "markdown",
      "metadata": {
        "id": "view-in-github",
        "colab_type": "text"
      },
      "source": [
        "<a href=\"https://colab.research.google.com/github/sedabicer/GlobalAIHubMLCourse/blob/main/Homeworks/Homework_3.ipynb\" target=\"_parent\"><img src=\"https://colab.research.google.com/assets/colab-badge.svg\" alt=\"Open In Colab\"/></a>"
      ]
    },
    {
      "cell_type": "code",
      "metadata": {
        "colab": {
          "base_uri": "https://localhost:8080/"
        },
        "id": "3C42YpAsYW8Z",
        "outputId": "6414b456-44e6-486d-a33e-5e6d779d675f"
      },
      "source": [
        "#Generate dataset using make_blobs function in the sklearn.datasets class. Generate 2000 samples with 3 features (X) with one label (y).\r\n",
        "from sklearn.datasets import make_blobs\r\n",
        "X, y = make_blobs(n_samples=2000, centers=None, n_features=3,random_state=0)\r\n",
        "X.shape"
      ],
      "execution_count": 100,
      "outputs": [
        {
          "output_type": "execute_result",
          "data": {
            "text/plain": [
              "(2000, 3)"
            ]
          },
          "metadata": {
            "tags": []
          },
          "execution_count": 100
        }
      ]
    },
    {
      "cell_type": "code",
      "metadata": {
        "colab": {
          "base_uri": "https://localhost:8080/"
        },
        "id": "d8YYKUy7YoDc",
        "outputId": "97f91370-cfd9-4505-d0dd-8fbf5d3a6e48"
      },
      "source": [
        "y"
      ],
      "execution_count": 101,
      "outputs": [
        {
          "output_type": "execute_result",
          "data": {
            "text/plain": [
              "array([1, 2, 1, ..., 1, 2, 1])"
            ]
          },
          "metadata": {
            "tags": []
          },
          "execution_count": 101
        }
      ]
    },
    {
      "cell_type": "code",
      "metadata": {
        "colab": {
          "base_uri": "https://localhost:8080/",
          "height": 402
        },
        "id": "6RplLrmJafy6",
        "outputId": "823c3f1b-25ff-4edb-8714-e231b159d85c"
      },
      "source": [
        "#Explore and analyse raw data.\r\n",
        "import pandas as pd\r\n",
        "from pandas import DataFrame\r\n",
        "import seaborn as sns\r\n",
        "from matplotlib import pyplot\r\n",
        "import numpy as np\r\n",
        "\r\n",
        "df = DataFrame(dict(x=X[:,0], y=X[:,1],z=X[:,2], label=y))\r\n",
        "df"
      ],
      "execution_count": 107,
      "outputs": [
        {
          "output_type": "execute_result",
          "data": {
            "text/html": [
              "<div>\n",
              "<style scoped>\n",
              "    .dataframe tbody tr th:only-of-type {\n",
              "        vertical-align: middle;\n",
              "    }\n",
              "\n",
              "    .dataframe tbody tr th {\n",
              "        vertical-align: top;\n",
              "    }\n",
              "\n",
              "    .dataframe thead th {\n",
              "        text-align: right;\n",
              "    }\n",
              "</style>\n",
              "<table border=\"1\" class=\"dataframe\">\n",
              "  <thead>\n",
              "    <tr style=\"text-align: right;\">\n",
              "      <th></th>\n",
              "      <th>x</th>\n",
              "      <th>y</th>\n",
              "      <th>z</th>\n",
              "      <th>label</th>\n",
              "    </tr>\n",
              "  </thead>\n",
              "  <tbody>\n",
              "    <tr>\n",
              "      <th>0</th>\n",
              "      <td>0.378197</td>\n",
              "      <td>-0.822654</td>\n",
              "      <td>4.412505</td>\n",
              "      <td>1</td>\n",
              "    </tr>\n",
              "    <tr>\n",
              "      <th>1</th>\n",
              "      <td>0.112908</td>\n",
              "      <td>8.072768</td>\n",
              "      <td>9.914998</td>\n",
              "      <td>2</td>\n",
              "    </tr>\n",
              "    <tr>\n",
              "      <th>2</th>\n",
              "      <td>1.875986</td>\n",
              "      <td>-2.862337</td>\n",
              "      <td>1.955307</td>\n",
              "      <td>1</td>\n",
              "    </tr>\n",
              "    <tr>\n",
              "      <th>3</th>\n",
              "      <td>-1.210594</td>\n",
              "      <td>6.876798</td>\n",
              "      <td>9.223306</td>\n",
              "      <td>2</td>\n",
              "    </tr>\n",
              "    <tr>\n",
              "      <th>4</th>\n",
              "      <td>2.095730</td>\n",
              "      <td>3.335208</td>\n",
              "      <td>3.288496</td>\n",
              "      <td>0</td>\n",
              "    </tr>\n",
              "    <tr>\n",
              "      <th>...</th>\n",
              "      <td>...</td>\n",
              "      <td>...</td>\n",
              "      <td>...</td>\n",
              "      <td>...</td>\n",
              "    </tr>\n",
              "    <tr>\n",
              "      <th>1995</th>\n",
              "      <td>1.400683</td>\n",
              "      <td>5.393096</td>\n",
              "      <td>1.671082</td>\n",
              "      <td>0</td>\n",
              "    </tr>\n",
              "    <tr>\n",
              "      <th>1996</th>\n",
              "      <td>-2.237195</td>\n",
              "      <td>6.910680</td>\n",
              "      <td>8.794924</td>\n",
              "      <td>2</td>\n",
              "    </tr>\n",
              "    <tr>\n",
              "      <th>1997</th>\n",
              "      <td>1.582651</td>\n",
              "      <td>-0.526795</td>\n",
              "      <td>2.355266</td>\n",
              "      <td>1</td>\n",
              "    </tr>\n",
              "    <tr>\n",
              "      <th>1998</th>\n",
              "      <td>-1.033492</td>\n",
              "      <td>8.516043</td>\n",
              "      <td>9.546055</td>\n",
              "      <td>2</td>\n",
              "    </tr>\n",
              "    <tr>\n",
              "      <th>1999</th>\n",
              "      <td>2.269996</td>\n",
              "      <td>-2.522649</td>\n",
              "      <td>1.755616</td>\n",
              "      <td>1</td>\n",
              "    </tr>\n",
              "  </tbody>\n",
              "</table>\n",
              "<p>2000 rows × 4 columns</p>\n",
              "</div>"
            ],
            "text/plain": [
              "             x         y         z  label\n",
              "0     0.378197 -0.822654  4.412505      1\n",
              "1     0.112908  8.072768  9.914998      2\n",
              "2     1.875986 -2.862337  1.955307      1\n",
              "3    -1.210594  6.876798  9.223306      2\n",
              "4     2.095730  3.335208  3.288496      0\n",
              "...        ...       ...       ...    ...\n",
              "1995  1.400683  5.393096  1.671082      0\n",
              "1996 -2.237195  6.910680  8.794924      2\n",
              "1997  1.582651 -0.526795  2.355266      1\n",
              "1998 -1.033492  8.516043  9.546055      2\n",
              "1999  2.269996 -2.522649  1.755616      1\n",
              "\n",
              "[2000 rows x 4 columns]"
            ]
          },
          "metadata": {
            "tags": []
          },
          "execution_count": 107
        }
      ]
    },
    {
      "cell_type": "code",
      "metadata": {
        "colab": {
          "base_uri": "https://localhost:8080/",
          "height": 195
        },
        "id": "Kl5wHQ4zf0eE",
        "outputId": "fc500758-3137-417d-a5ad-f215e48188b8"
      },
      "source": [
        "df.head()"
      ],
      "execution_count": 104,
      "outputs": [
        {
          "output_type": "execute_result",
          "data": {
            "text/html": [
              "<div>\n",
              "<style scoped>\n",
              "    .dataframe tbody tr th:only-of-type {\n",
              "        vertical-align: middle;\n",
              "    }\n",
              "\n",
              "    .dataframe tbody tr th {\n",
              "        vertical-align: top;\n",
              "    }\n",
              "\n",
              "    .dataframe thead th {\n",
              "        text-align: right;\n",
              "    }\n",
              "</style>\n",
              "<table border=\"1\" class=\"dataframe\">\n",
              "  <thead>\n",
              "    <tr style=\"text-align: right;\">\n",
              "      <th></th>\n",
              "      <th>X1</th>\n",
              "      <th>X2</th>\n",
              "      <th>X3</th>\n",
              "    </tr>\n",
              "  </thead>\n",
              "  <tbody>\n",
              "    <tr>\n",
              "      <th>0</th>\n",
              "      <td>0.378197</td>\n",
              "      <td>-0.822654</td>\n",
              "      <td>4.412505</td>\n",
              "    </tr>\n",
              "    <tr>\n",
              "      <th>1</th>\n",
              "      <td>0.112908</td>\n",
              "      <td>8.072768</td>\n",
              "      <td>9.914998</td>\n",
              "    </tr>\n",
              "    <tr>\n",
              "      <th>2</th>\n",
              "      <td>1.875986</td>\n",
              "      <td>-2.862337</td>\n",
              "      <td>1.955307</td>\n",
              "    </tr>\n",
              "    <tr>\n",
              "      <th>3</th>\n",
              "      <td>-1.210594</td>\n",
              "      <td>6.876798</td>\n",
              "      <td>9.223306</td>\n",
              "    </tr>\n",
              "    <tr>\n",
              "      <th>4</th>\n",
              "      <td>2.095730</td>\n",
              "      <td>3.335208</td>\n",
              "      <td>3.288496</td>\n",
              "    </tr>\n",
              "  </tbody>\n",
              "</table>\n",
              "</div>"
            ],
            "text/plain": [
              "         X1        X2        X3\n",
              "0  0.378197 -0.822654  4.412505\n",
              "1  0.112908  8.072768  9.914998\n",
              "2  1.875986 -2.862337  1.955307\n",
              "3 -1.210594  6.876798  9.223306\n",
              "4  2.095730  3.335208  3.288496"
            ]
          },
          "metadata": {
            "tags": []
          },
          "execution_count": 104
        }
      ]
    },
    {
      "cell_type": "code",
      "metadata": {
        "colab": {
          "base_uri": "https://localhost:8080/"
        },
        "id": "R9AMDYemf_KQ",
        "outputId": "d27cf909-c30d-43bb-8de1-64d417638ed9"
      },
      "source": [
        "df.info()"
      ],
      "execution_count": 92,
      "outputs": [
        {
          "output_type": "stream",
          "text": [
            "<class 'pandas.core.frame.DataFrame'>\n",
            "RangeIndex: 2000 entries, 0 to 1999\n",
            "Data columns (total 3 columns):\n",
            " #   Column  Non-Null Count  Dtype  \n",
            "---  ------  --------------  -----  \n",
            " 0   X1      2000 non-null   float64\n",
            " 1   X2      2000 non-null   float64\n",
            " 2   X3      2000 non-null   float64\n",
            "dtypes: float64(3)\n",
            "memory usage: 47.0 KB\n"
          ],
          "name": "stdout"
        }
      ]
    },
    {
      "cell_type": "code",
      "metadata": {
        "colab": {
          "base_uri": "https://localhost:8080/",
          "height": 284
        },
        "id": "rfZm5rcLgEDb",
        "outputId": "1532a9c8-5d13-4a85-b919-130d2bd39e76"
      },
      "source": [
        "df.describe()"
      ],
      "execution_count": 93,
      "outputs": [
        {
          "output_type": "execute_result",
          "data": {
            "text/html": [
              "<div>\n",
              "<style scoped>\n",
              "    .dataframe tbody tr th:only-of-type {\n",
              "        vertical-align: middle;\n",
              "    }\n",
              "\n",
              "    .dataframe tbody tr th {\n",
              "        vertical-align: top;\n",
              "    }\n",
              "\n",
              "    .dataframe thead th {\n",
              "        text-align: right;\n",
              "    }\n",
              "</style>\n",
              "<table border=\"1\" class=\"dataframe\">\n",
              "  <thead>\n",
              "    <tr style=\"text-align: right;\">\n",
              "      <th></th>\n",
              "      <th>X1</th>\n",
              "      <th>X2</th>\n",
              "      <th>X3</th>\n",
              "    </tr>\n",
              "  </thead>\n",
              "  <tbody>\n",
              "    <tr>\n",
              "      <th>count</th>\n",
              "      <td>2000.000000</td>\n",
              "      <td>2000.000000</td>\n",
              "      <td>2000.000000</td>\n",
              "    </tr>\n",
              "    <tr>\n",
              "      <th>mean</th>\n",
              "      <td>0.240772</td>\n",
              "      <td>3.493821</td>\n",
              "      <td>4.739933</td>\n",
              "    </tr>\n",
              "    <tr>\n",
              "      <th>std</th>\n",
              "      <td>1.420266</td>\n",
              "      <td>4.002951</td>\n",
              "      <td>3.407143</td>\n",
              "    </tr>\n",
              "    <tr>\n",
              "      <th>min</th>\n",
              "      <td>-4.365209</td>\n",
              "      <td>-5.351844</td>\n",
              "      <td>-1.459501</td>\n",
              "    </tr>\n",
              "    <tr>\n",
              "      <th>25%</th>\n",
              "      <td>-0.758331</td>\n",
              "      <td>-0.964595</td>\n",
              "      <td>2.115543</td>\n",
              "    </tr>\n",
              "    <tr>\n",
              "      <th>50%</th>\n",
              "      <td>0.381250</td>\n",
              "      <td>4.278380</td>\n",
              "      <td>3.208216</td>\n",
              "    </tr>\n",
              "    <tr>\n",
              "      <th>75%</th>\n",
              "      <td>1.244579</td>\n",
              "      <td>7.137660</td>\n",
              "      <td>8.649354</td>\n",
              "    </tr>\n",
              "    <tr>\n",
              "      <th>max</th>\n",
              "      <td>4.077801</td>\n",
              "      <td>11.046691</td>\n",
              "      <td>12.079492</td>\n",
              "    </tr>\n",
              "  </tbody>\n",
              "</table>\n",
              "</div>"
            ],
            "text/plain": [
              "                X1           X2           X3\n",
              "count  2000.000000  2000.000000  2000.000000\n",
              "mean      0.240772     3.493821     4.739933\n",
              "std       1.420266     4.002951     3.407143\n",
              "min      -4.365209    -5.351844    -1.459501\n",
              "25%      -0.758331    -0.964595     2.115543\n",
              "50%       0.381250     4.278380     3.208216\n",
              "75%       1.244579     7.137660     8.649354\n",
              "max       4.077801    11.046691    12.079492"
            ]
          },
          "metadata": {
            "tags": []
          },
          "execution_count": 93
        }
      ]
    },
    {
      "cell_type": "code",
      "metadata": {
        "colab": {
          "base_uri": "https://localhost:8080/"
        },
        "id": "0uaG3QwBgIih",
        "outputId": "4abf2f5c-f5b5-4a66-f507-d02f1e72a67c"
      },
      "source": [
        "df.isna().sum()"
      ],
      "execution_count": 105,
      "outputs": [
        {
          "output_type": "execute_result",
          "data": {
            "text/plain": [
              "X1    0\n",
              "X2    0\n",
              "X3    0\n",
              "dtype: int64"
            ]
          },
          "metadata": {
            "tags": []
          },
          "execution_count": 105
        }
      ]
    },
    {
      "cell_type": "code",
      "metadata": {
        "colab": {
          "base_uri": "https://localhost:8080/",
          "height": 166
        },
        "id": "wpWSSq7Chj8p",
        "outputId": "5650d5e6-2287-4e0c-a187-a80a4fc68fc0"
      },
      "source": [
        "df.groupby(by=\"label\").count()"
      ],
      "execution_count": 110,
      "outputs": [
        {
          "output_type": "execute_result",
          "data": {
            "text/html": [
              "<div>\n",
              "<style scoped>\n",
              "    .dataframe tbody tr th:only-of-type {\n",
              "        vertical-align: middle;\n",
              "    }\n",
              "\n",
              "    .dataframe tbody tr th {\n",
              "        vertical-align: top;\n",
              "    }\n",
              "\n",
              "    .dataframe thead th {\n",
              "        text-align: right;\n",
              "    }\n",
              "</style>\n",
              "<table border=\"1\" class=\"dataframe\">\n",
              "  <thead>\n",
              "    <tr style=\"text-align: right;\">\n",
              "      <th></th>\n",
              "      <th>x</th>\n",
              "      <th>y</th>\n",
              "      <th>z</th>\n",
              "    </tr>\n",
              "    <tr>\n",
              "      <th>label</th>\n",
              "      <th></th>\n",
              "      <th></th>\n",
              "      <th></th>\n",
              "    </tr>\n",
              "  </thead>\n",
              "  <tbody>\n",
              "    <tr>\n",
              "      <th>0</th>\n",
              "      <td>667</td>\n",
              "      <td>667</td>\n",
              "      <td>667</td>\n",
              "    </tr>\n",
              "    <tr>\n",
              "      <th>1</th>\n",
              "      <td>667</td>\n",
              "      <td>667</td>\n",
              "      <td>667</td>\n",
              "    </tr>\n",
              "    <tr>\n",
              "      <th>2</th>\n",
              "      <td>666</td>\n",
              "      <td>666</td>\n",
              "      <td>666</td>\n",
              "    </tr>\n",
              "  </tbody>\n",
              "</table>\n",
              "</div>"
            ],
            "text/plain": [
              "         x    y    z\n",
              "label               \n",
              "0      667  667  667\n",
              "1      667  667  667\n",
              "2      666  666  666"
            ]
          },
          "metadata": {
            "tags": []
          },
          "execution_count": 110
        }
      ]
    },
    {
      "cell_type": "code",
      "metadata": {
        "colab": {
          "base_uri": "https://localhost:8080/",
          "height": 195
        },
        "id": "kWYkNAJLhqKj",
        "outputId": "3d1016e2-0ab0-42a6-b0f5-21f497964b02"
      },
      "source": [
        "#Do preprocessing for classification.\r\n",
        "from sklearn.preprocessing import LabelEncoder\r\n",
        "from sklearn.model_selection import train_test_split\r\n",
        "from sklearn.metrics import accuracy_score\r\n",
        "label_encoder = LabelEncoder()\r\n",
        "df[\"Label\"] = label_encoder.fit_transform(df[\"label\"]) \r\n",
        "df.head()"
      ],
      "execution_count": 114,
      "outputs": [
        {
          "output_type": "execute_result",
          "data": {
            "text/html": [
              "<div>\n",
              "<style scoped>\n",
              "    .dataframe tbody tr th:only-of-type {\n",
              "        vertical-align: middle;\n",
              "    }\n",
              "\n",
              "    .dataframe tbody tr th {\n",
              "        vertical-align: top;\n",
              "    }\n",
              "\n",
              "    .dataframe thead th {\n",
              "        text-align: right;\n",
              "    }\n",
              "</style>\n",
              "<table border=\"1\" class=\"dataframe\">\n",
              "  <thead>\n",
              "    <tr style=\"text-align: right;\">\n",
              "      <th></th>\n",
              "      <th>x</th>\n",
              "      <th>y</th>\n",
              "      <th>z</th>\n",
              "      <th>label</th>\n",
              "      <th>Label</th>\n",
              "    </tr>\n",
              "  </thead>\n",
              "  <tbody>\n",
              "    <tr>\n",
              "      <th>0</th>\n",
              "      <td>0.378197</td>\n",
              "      <td>-0.822654</td>\n",
              "      <td>4.412505</td>\n",
              "      <td>1</td>\n",
              "      <td>1</td>\n",
              "    </tr>\n",
              "    <tr>\n",
              "      <th>1</th>\n",
              "      <td>0.112908</td>\n",
              "      <td>8.072768</td>\n",
              "      <td>9.914998</td>\n",
              "      <td>2</td>\n",
              "      <td>2</td>\n",
              "    </tr>\n",
              "    <tr>\n",
              "      <th>2</th>\n",
              "      <td>1.875986</td>\n",
              "      <td>-2.862337</td>\n",
              "      <td>1.955307</td>\n",
              "      <td>1</td>\n",
              "      <td>1</td>\n",
              "    </tr>\n",
              "    <tr>\n",
              "      <th>3</th>\n",
              "      <td>-1.210594</td>\n",
              "      <td>6.876798</td>\n",
              "      <td>9.223306</td>\n",
              "      <td>2</td>\n",
              "      <td>2</td>\n",
              "    </tr>\n",
              "    <tr>\n",
              "      <th>4</th>\n",
              "      <td>2.095730</td>\n",
              "      <td>3.335208</td>\n",
              "      <td>3.288496</td>\n",
              "      <td>0</td>\n",
              "      <td>0</td>\n",
              "    </tr>\n",
              "  </tbody>\n",
              "</table>\n",
              "</div>"
            ],
            "text/plain": [
              "          x         y         z  label  Label\n",
              "0  0.378197 -0.822654  4.412505      1      1\n",
              "1  0.112908  8.072768  9.914998      2      2\n",
              "2  1.875986 -2.862337  1.955307      1      1\n",
              "3 -1.210594  6.876798  9.223306      2      2\n",
              "4  2.095730  3.335208  3.288496      0      0"
            ]
          },
          "metadata": {
            "tags": []
          },
          "execution_count": 114
        }
      ]
    },
    {
      "cell_type": "code",
      "metadata": {
        "colab": {
          "base_uri": "https://localhost:8080/"
        },
        "id": "Nah8uxZbh_kp",
        "outputId": "c7ea8dfb-6202-446f-ebac-4e01d3246e21"
      },
      "source": [
        "df[\"Label\"].value_counts()"
      ],
      "execution_count": 115,
      "outputs": [
        {
          "output_type": "execute_result",
          "data": {
            "text/plain": [
              "1    667\n",
              "0    667\n",
              "2    666\n",
              "Name: Label, dtype: int64"
            ]
          },
          "metadata": {
            "tags": []
          },
          "execution_count": 115
        }
      ]
    },
    {
      "cell_type": "code",
      "metadata": {
        "colab": {
          "base_uri": "https://localhost:8080/"
        },
        "id": "HY8OUBwMiC45",
        "outputId": "566e168c-231f-46e6-a79d-83f703360c58"
      },
      "source": [
        "categories = list(label_encoder.inverse_transform([0, 1, 2]))\r\n",
        "categories"
      ],
      "execution_count": 116,
      "outputs": [
        {
          "output_type": "execute_result",
          "data": {
            "text/plain": [
              "[0, 1, 2]"
            ]
          },
          "metadata": {
            "tags": []
          },
          "execution_count": 116
        }
      ]
    },
    {
      "cell_type": "code",
      "metadata": {
        "colab": {
          "base_uri": "https://localhost:8080/"
        },
        "id": "2Vbma0C-Y3zy",
        "outputId": "6c8197a8-3f49-4ca5-c891-25c3a90798c3"
      },
      "source": [
        "#Split your dataset into train and test test (0.7 for train and 0.3 for test).\r\n",
        "from sklearn.model_selection import train_test_split\r\n",
        "X_train, X_test, y_train, y_test = train_test_split(X, y,train_size=0.7, test_size=0.3, random_state=123)\r\n",
        "\r\n",
        "X_train"
      ],
      "execution_count": 168,
      "outputs": [
        {
          "output_type": "execute_result",
          "data": {
            "text/plain": [
              "array([[ 1.08461963,  4.5654558 ,  1.14051219],\n",
              "       [ 2.69848778,  4.7648368 ,  2.87241647],\n",
              "       [ 3.08640284, -1.06540176,  4.0879479 ],\n",
              "       ...,\n",
              "       [ 0.3602126 , -0.84412369,  1.71695525],\n",
              "       [-0.13722449,  7.48027067, 10.23703453],\n",
              "       [-2.19773826,  6.19251268, 10.08648907]])"
            ]
          },
          "metadata": {
            "tags": []
          },
          "execution_count": 168
        }
      ]
    },
    {
      "cell_type": "code",
      "metadata": {
        "colab": {
          "base_uri": "https://localhost:8080/"
        },
        "id": "onaNz4Zy2F-D",
        "outputId": "b97b9d89-f254-483b-c6a3-f9ca4fe9794c"
      },
      "source": [
        "#Decision Tree \r\n",
        "\r\n",
        "from sklearn.tree import DecisionTreeClassifier\r\n",
        "\r\n",
        "clf = DecisionTreeClassifier(max_depth=4, random_state=42)\r\n",
        "clf.fit(X_train,y_train)\r\n",
        "print(\"Accuracy of train:\",clf.score(X_train,y_train))\r\n",
        "print(\"Accuracy of test:\",clf.score(X_test,y_test)) "
      ],
      "execution_count": 158,
      "outputs": [
        {
          "output_type": "stream",
          "text": [
            "Accuracy of train: 1.0\n",
            "Accuracy of test: 0.9983333333333333\n"
          ],
          "name": "stdout"
        }
      ]
    },
    {
      "cell_type": "code",
      "metadata": {
        "colab": {
          "base_uri": "https://localhost:8080/",
          "height": 757
        },
        "id": "ui6F4eoQkF8K",
        "outputId": "d907a16e-6a45-4cba-b2d7-ea86ba535b9e"
      },
      "source": [
        "import os\r\n",
        "from sklearn.tree import export_graphviz\r\n",
        "import graphviz\r\n",
        "\r\n",
        "dot_data = export_graphviz(clf, out_file=None,\r\n",
        "                     class_names=classes,\r\n",
        "                     filled=True, rounded=True\r\n",
        "                    )\r\n",
        "graph = graphviz.Source(dot_data)\r\n",
        "graph"
      ],
      "execution_count": 162,
      "outputs": [
        {
          "output_type": "execute_result",
          "data": {
            "text/plain": [
              "<graphviz.files.Source at 0x7f566aa752b0>"
            ],
            "image/svg+xml": "<?xml version=\"1.0\" encoding=\"UTF-8\" standalone=\"no\"?>\n<!DOCTYPE svg PUBLIC \"-//W3C//DTD SVG 1.1//EN\"\n \"http://www.w3.org/Graphics/SVG/1.1/DTD/svg11.dtd\">\n<!-- Generated by graphviz version 2.40.1 (20161225.0304)\n -->\n<!-- Title: Tree Pages: 1 -->\n<svg width=\"416pt\" height=\"552pt\"\n viewBox=\"0.00 0.00 416.00 552.00\" xmlns=\"http://www.w3.org/2000/svg\" xmlns:xlink=\"http://www.w3.org/1999/xlink\">\n<g id=\"graph0\" class=\"graph\" transform=\"scale(1 1) rotate(0) translate(4 548)\">\n<title>Tree</title>\n<polygon fill=\"#ffffff\" stroke=\"transparent\" points=\"-4,4 -4,-548 412,-548 412,4 -4,4\"/>\n<!-- 0 -->\n<g id=\"node1\" class=\"node\">\n<title>0</title>\n<path fill=\"#fffefe\" stroke=\"#000000\" d=\"M259.5,-544C259.5,-544 119.5,-544 119.5,-544 113.5,-544 107.5,-538 107.5,-532 107.5,-532 107.5,-473 107.5,-473 107.5,-467 113.5,-461 119.5,-461 119.5,-461 259.5,-461 259.5,-461 265.5,-461 271.5,-467 271.5,-473 271.5,-473 271.5,-532 271.5,-532 271.5,-538 265.5,-544 259.5,-544\"/>\n<text text-anchor=\"middle\" x=\"189.5\" y=\"-528.8\" font-family=\"Helvetica,sans-Serif\" font-size=\"14.00\" fill=\"#000000\">X[1] &lt;= 1.276</text>\n<text text-anchor=\"middle\" x=\"189.5\" y=\"-513.8\" font-family=\"Helvetica,sans-Serif\" font-size=\"14.00\" fill=\"#000000\">gini = 0.667</text>\n<text text-anchor=\"middle\" x=\"189.5\" y=\"-498.8\" font-family=\"Helvetica,sans-Serif\" font-size=\"14.00\" fill=\"#000000\">samples = 1400</text>\n<text text-anchor=\"middle\" x=\"189.5\" y=\"-483.8\" font-family=\"Helvetica,sans-Serif\" font-size=\"14.00\" fill=\"#000000\">value = [471, 466, 463]</text>\n<text text-anchor=\"middle\" x=\"189.5\" y=\"-468.8\" font-family=\"Helvetica,sans-Serif\" font-size=\"14.00\" fill=\"#000000\">class = 0</text>\n</g>\n<!-- 1 -->\n<g id=\"node2\" class=\"node\">\n<title>1</title>\n<path fill=\"#39e581\" stroke=\"#000000\" d=\"M164,-417.5C164,-417.5 57,-417.5 57,-417.5 51,-417.5 45,-411.5 45,-405.5 45,-405.5 45,-361.5 45,-361.5 45,-355.5 51,-349.5 57,-349.5 57,-349.5 164,-349.5 164,-349.5 170,-349.5 176,-355.5 176,-361.5 176,-361.5 176,-405.5 176,-405.5 176,-411.5 170,-417.5 164,-417.5\"/>\n<text text-anchor=\"middle\" x=\"110.5\" y=\"-402.3\" font-family=\"Helvetica,sans-Serif\" font-size=\"14.00\" fill=\"#000000\">gini = 0.0</text>\n<text text-anchor=\"middle\" x=\"110.5\" y=\"-387.3\" font-family=\"Helvetica,sans-Serif\" font-size=\"14.00\" fill=\"#000000\">samples = 465</text>\n<text text-anchor=\"middle\" x=\"110.5\" y=\"-372.3\" font-family=\"Helvetica,sans-Serif\" font-size=\"14.00\" fill=\"#000000\">value = [0, 465, 0]</text>\n<text text-anchor=\"middle\" x=\"110.5\" y=\"-357.3\" font-family=\"Helvetica,sans-Serif\" font-size=\"14.00\" fill=\"#000000\">class = 1</text>\n</g>\n<!-- 0&#45;&gt;1 -->\n<g id=\"edge1\" class=\"edge\">\n<title>0&#45;&gt;1</title>\n<path fill=\"none\" stroke=\"#000000\" d=\"M161.8696,-460.8796C154.4237,-449.6636 146.3575,-437.5131 138.8718,-426.2372\"/>\n<polygon fill=\"#000000\" stroke=\"#000000\" points=\"141.7273,-424.2104 133.2805,-417.8149 135.8954,-428.082 141.7273,-424.2104\"/>\n<text text-anchor=\"middle\" x=\"128.33\" y=\"-438.6199\" font-family=\"Helvetica,sans-Serif\" font-size=\"14.00\" fill=\"#000000\">True</text>\n</g>\n<!-- 2 -->\n<g id=\"node3\" class=\"node\">\n<title>2</title>\n<path fill=\"#fffdfc\" stroke=\"#000000\" d=\"M330.5,-425C330.5,-425 206.5,-425 206.5,-425 200.5,-425 194.5,-419 194.5,-413 194.5,-413 194.5,-354 194.5,-354 194.5,-348 200.5,-342 206.5,-342 206.5,-342 330.5,-342 330.5,-342 336.5,-342 342.5,-348 342.5,-354 342.5,-354 342.5,-413 342.5,-413 342.5,-419 336.5,-425 330.5,-425\"/>\n<text text-anchor=\"middle\" x=\"268.5\" y=\"-409.8\" font-family=\"Helvetica,sans-Serif\" font-size=\"14.00\" fill=\"#000000\">X[2] &lt;= 5.264</text>\n<text text-anchor=\"middle\" x=\"268.5\" y=\"-394.8\" font-family=\"Helvetica,sans-Serif\" font-size=\"14.00\" fill=\"#000000\">gini = 0.501</text>\n<text text-anchor=\"middle\" x=\"268.5\" y=\"-379.8\" font-family=\"Helvetica,sans-Serif\" font-size=\"14.00\" fill=\"#000000\">samples = 935</text>\n<text text-anchor=\"middle\" x=\"268.5\" y=\"-364.8\" font-family=\"Helvetica,sans-Serif\" font-size=\"14.00\" fill=\"#000000\">value = [471, 1, 463]</text>\n<text text-anchor=\"middle\" x=\"268.5\" y=\"-349.8\" font-family=\"Helvetica,sans-Serif\" font-size=\"14.00\" fill=\"#000000\">class = 0</text>\n</g>\n<!-- 0&#45;&gt;2 -->\n<g id=\"edge2\" class=\"edge\">\n<title>0&#45;&gt;2</title>\n<path fill=\"none\" stroke=\"#000000\" d=\"M217.1304,-460.8796C222.93,-452.1434 229.1059,-442.8404 235.0908,-433.8253\"/>\n<polygon fill=\"#000000\" stroke=\"#000000\" points=\"238.1368,-435.5652 240.7517,-425.2981 232.3049,-431.6935 238.1368,-435.5652\"/>\n<text text-anchor=\"middle\" x=\"245.7022\" y=\"-446.103\" font-family=\"Helvetica,sans-Serif\" font-size=\"14.00\" fill=\"#000000\">False</text>\n</g>\n<!-- 3 -->\n<g id=\"node4\" class=\"node\">\n<title>3</title>\n<path fill=\"#e58139\" stroke=\"#000000\" d=\"M247,-306C247,-306 140,-306 140,-306 134,-306 128,-300 128,-294 128,-294 128,-235 128,-235 128,-229 134,-223 140,-223 140,-223 247,-223 247,-223 253,-223 259,-229 259,-235 259,-235 259,-294 259,-294 259,-300 253,-306 247,-306\"/>\n<text text-anchor=\"middle\" x=\"193.5\" y=\"-290.8\" font-family=\"Helvetica,sans-Serif\" font-size=\"14.00\" fill=\"#000000\">X[1] &lt;= 1.92</text>\n<text text-anchor=\"middle\" x=\"193.5\" y=\"-275.8\" font-family=\"Helvetica,sans-Serif\" font-size=\"14.00\" fill=\"#000000\">gini = 0.004</text>\n<text text-anchor=\"middle\" x=\"193.5\" y=\"-260.8\" font-family=\"Helvetica,sans-Serif\" font-size=\"14.00\" fill=\"#000000\">samples = 472</text>\n<text text-anchor=\"middle\" x=\"193.5\" y=\"-245.8\" font-family=\"Helvetica,sans-Serif\" font-size=\"14.00\" fill=\"#000000\">value = [471, 1, 0]</text>\n<text text-anchor=\"middle\" x=\"193.5\" y=\"-230.8\" font-family=\"Helvetica,sans-Serif\" font-size=\"14.00\" fill=\"#000000\">class = 0</text>\n</g>\n<!-- 2&#45;&gt;3 -->\n<g id=\"edge3\" class=\"edge\">\n<title>2&#45;&gt;3</title>\n<path fill=\"none\" stroke=\"#000000\" d=\"M242.2686,-341.8796C236.7627,-333.1434 230.8994,-323.8404 225.2176,-314.8253\"/>\n<polygon fill=\"#000000\" stroke=\"#000000\" points=\"228.1363,-312.8919 219.8433,-306.2981 222.2143,-316.6242 228.1363,-312.8919\"/>\n</g>\n<!-- 8 -->\n<g id=\"node9\" class=\"node\">\n<title>8</title>\n<path fill=\"#8139e5\" stroke=\"#000000\" d=\"M396,-298.5C396,-298.5 289,-298.5 289,-298.5 283,-298.5 277,-292.5 277,-286.5 277,-286.5 277,-242.5 277,-242.5 277,-236.5 283,-230.5 289,-230.5 289,-230.5 396,-230.5 396,-230.5 402,-230.5 408,-236.5 408,-242.5 408,-242.5 408,-286.5 408,-286.5 408,-292.5 402,-298.5 396,-298.5\"/>\n<text text-anchor=\"middle\" x=\"342.5\" y=\"-283.3\" font-family=\"Helvetica,sans-Serif\" font-size=\"14.00\" fill=\"#000000\">gini = 0.0</text>\n<text text-anchor=\"middle\" x=\"342.5\" y=\"-268.3\" font-family=\"Helvetica,sans-Serif\" font-size=\"14.00\" fill=\"#000000\">samples = 463</text>\n<text text-anchor=\"middle\" x=\"342.5\" y=\"-253.3\" font-family=\"Helvetica,sans-Serif\" font-size=\"14.00\" fill=\"#000000\">value = [0, 0, 463]</text>\n<text text-anchor=\"middle\" x=\"342.5\" y=\"-238.3\" font-family=\"Helvetica,sans-Serif\" font-size=\"14.00\" fill=\"#000000\">class = 2</text>\n</g>\n<!-- 2&#45;&gt;8 -->\n<g id=\"edge8\" class=\"edge\">\n<title>2&#45;&gt;8</title>\n<path fill=\"none\" stroke=\"#000000\" d=\"M294.3816,-341.8796C301.2879,-330.7735 308.7639,-318.7513 315.7175,-307.5691\"/>\n<polygon fill=\"#000000\" stroke=\"#000000\" points=\"318.8527,-309.1552 321.1613,-298.8149 312.9083,-305.4587 318.8527,-309.1552\"/>\n</g>\n<!-- 4 -->\n<g id=\"node5\" class=\"node\">\n<title>4</title>\n<path fill=\"#ffffff\" stroke=\"#000000\" d=\"M169,-187C169,-187 78,-187 78,-187 72,-187 66,-181 66,-175 66,-175 66,-116 66,-116 66,-110 72,-104 78,-104 78,-104 169,-104 169,-104 175,-104 181,-110 181,-116 181,-116 181,-175 181,-175 181,-181 175,-187 169,-187\"/>\n<text text-anchor=\"middle\" x=\"123.5\" y=\"-171.8\" font-family=\"Helvetica,sans-Serif\" font-size=\"14.00\" fill=\"#000000\">X[2] &lt;= 3.237</text>\n<text text-anchor=\"middle\" x=\"123.5\" y=\"-156.8\" font-family=\"Helvetica,sans-Serif\" font-size=\"14.00\" fill=\"#000000\">gini = 0.5</text>\n<text text-anchor=\"middle\" x=\"123.5\" y=\"-141.8\" font-family=\"Helvetica,sans-Serif\" font-size=\"14.00\" fill=\"#000000\">samples = 2</text>\n<text text-anchor=\"middle\" x=\"123.5\" y=\"-126.8\" font-family=\"Helvetica,sans-Serif\" font-size=\"14.00\" fill=\"#000000\">value = [1, 1, 0]</text>\n<text text-anchor=\"middle\" x=\"123.5\" y=\"-111.8\" font-family=\"Helvetica,sans-Serif\" font-size=\"14.00\" fill=\"#000000\">class = 0</text>\n</g>\n<!-- 3&#45;&gt;4 -->\n<g id=\"edge4\" class=\"edge\">\n<title>3&#45;&gt;4</title>\n<path fill=\"none\" stroke=\"#000000\" d=\"M169.0174,-222.8796C163.9315,-214.2335 158.5189,-205.0322 153.2672,-196.1042\"/>\n<polygon fill=\"#000000\" stroke=\"#000000\" points=\"156.1741,-194.1428 148.0871,-187.2981 150.1406,-197.692 156.1741,-194.1428\"/>\n</g>\n<!-- 7 -->\n<g id=\"node8\" class=\"node\">\n<title>7</title>\n<path fill=\"#e58139\" stroke=\"#000000\" d=\"M318,-179.5C318,-179.5 211,-179.5 211,-179.5 205,-179.5 199,-173.5 199,-167.5 199,-167.5 199,-123.5 199,-123.5 199,-117.5 205,-111.5 211,-111.5 211,-111.5 318,-111.5 318,-111.5 324,-111.5 330,-117.5 330,-123.5 330,-123.5 330,-167.5 330,-167.5 330,-173.5 324,-179.5 318,-179.5\"/>\n<text text-anchor=\"middle\" x=\"264.5\" y=\"-164.3\" font-family=\"Helvetica,sans-Serif\" font-size=\"14.00\" fill=\"#000000\">gini = 0.0</text>\n<text text-anchor=\"middle\" x=\"264.5\" y=\"-149.3\" font-family=\"Helvetica,sans-Serif\" font-size=\"14.00\" fill=\"#000000\">samples = 470</text>\n<text text-anchor=\"middle\" x=\"264.5\" y=\"-134.3\" font-family=\"Helvetica,sans-Serif\" font-size=\"14.00\" fill=\"#000000\">value = [470, 0, 0]</text>\n<text text-anchor=\"middle\" x=\"264.5\" y=\"-119.3\" font-family=\"Helvetica,sans-Serif\" font-size=\"14.00\" fill=\"#000000\">class = 0</text>\n</g>\n<!-- 3&#45;&gt;7 -->\n<g id=\"edge7\" class=\"edge\">\n<title>3&#45;&gt;7</title>\n<path fill=\"none\" stroke=\"#000000\" d=\"M218.3324,-222.8796C224.9587,-211.7735 232.1316,-199.7513 238.8033,-188.5691\"/>\n<polygon fill=\"#000000\" stroke=\"#000000\" points=\"241.9083,-190.1959 244.0264,-179.8149 235.8969,-186.6093 241.9083,-190.1959\"/>\n</g>\n<!-- 5 -->\n<g id=\"node6\" class=\"node\">\n<title>5</title>\n<path fill=\"#39e581\" stroke=\"#000000\" d=\"M103,-68C103,-68 12,-68 12,-68 6,-68 0,-62 0,-56 0,-56 0,-12 0,-12 0,-6 6,0 12,0 12,0 103,0 103,0 109,0 115,-6 115,-12 115,-12 115,-56 115,-56 115,-62 109,-68 103,-68\"/>\n<text text-anchor=\"middle\" x=\"57.5\" y=\"-52.8\" font-family=\"Helvetica,sans-Serif\" font-size=\"14.00\" fill=\"#000000\">gini = 0.0</text>\n<text text-anchor=\"middle\" x=\"57.5\" y=\"-37.8\" font-family=\"Helvetica,sans-Serif\" font-size=\"14.00\" fill=\"#000000\">samples = 1</text>\n<text text-anchor=\"middle\" x=\"57.5\" y=\"-22.8\" font-family=\"Helvetica,sans-Serif\" font-size=\"14.00\" fill=\"#000000\">value = [0, 1, 0]</text>\n<text text-anchor=\"middle\" x=\"57.5\" y=\"-7.8\" font-family=\"Helvetica,sans-Serif\" font-size=\"14.00\" fill=\"#000000\">class = 1</text>\n</g>\n<!-- 4&#45;&gt;5 -->\n<g id=\"edge5\" class=\"edge\">\n<title>4&#45;&gt;5</title>\n<path fill=\"none\" stroke=\"#000000\" d=\"M98.924,-103.9815C93.7014,-95.1585 88.1771,-85.8258 82.9237,-76.9506\"/>\n<polygon fill=\"#000000\" stroke=\"#000000\" points=\"85.8874,-75.0863 77.7816,-68.2637 79.8636,-78.652 85.8874,-75.0863\"/>\n</g>\n<!-- 6 -->\n<g id=\"node7\" class=\"node\">\n<title>6</title>\n<path fill=\"#e58139\" stroke=\"#000000\" d=\"M236,-68C236,-68 145,-68 145,-68 139,-68 133,-62 133,-56 133,-56 133,-12 133,-12 133,-6 139,0 145,0 145,0 236,0 236,0 242,0 248,-6 248,-12 248,-12 248,-56 248,-56 248,-62 242,-68 236,-68\"/>\n<text text-anchor=\"middle\" x=\"190.5\" y=\"-52.8\" font-family=\"Helvetica,sans-Serif\" font-size=\"14.00\" fill=\"#000000\">gini = 0.0</text>\n<text text-anchor=\"middle\" x=\"190.5\" y=\"-37.8\" font-family=\"Helvetica,sans-Serif\" font-size=\"14.00\" fill=\"#000000\">samples = 1</text>\n<text text-anchor=\"middle\" x=\"190.5\" y=\"-22.8\" font-family=\"Helvetica,sans-Serif\" font-size=\"14.00\" fill=\"#000000\">value = [1, 0, 0]</text>\n<text text-anchor=\"middle\" x=\"190.5\" y=\"-7.8\" font-family=\"Helvetica,sans-Serif\" font-size=\"14.00\" fill=\"#000000\">class = 0</text>\n</g>\n<!-- 4&#45;&gt;6 -->\n<g id=\"edge6\" class=\"edge\">\n<title>4&#45;&gt;6</title>\n<path fill=\"none\" stroke=\"#000000\" d=\"M148.4483,-103.9815C153.7501,-95.1585 159.3581,-85.8258 164.6911,-76.9506\"/>\n<polygon fill=\"#000000\" stroke=\"#000000\" points=\"167.7605,-78.638 169.9111,-68.2637 161.7604,-75.0325 167.7605,-78.638\"/>\n</g>\n</g>\n</svg>\n"
          },
          "metadata": {
            "tags": []
          },
          "execution_count": 162
        }
      ]
    },
    {
      "cell_type": "code",
      "metadata": {
        "colab": {
          "base_uri": "https://localhost:8080/"
        },
        "id": "EEh6SIS9g4qU",
        "outputId": "74ad7163-ee91-44bc-f64a-6fcff62db582"
      },
      "source": [
        "#XGBoos\r\n",
        "import xgboost as xgb\r\n",
        "\r\n",
        "dmatrix_train = xgb.DMatrix(data=X_train, label=y_train)\r\n",
        "dmatrix_test = xgb.DMatrix(data=X_test, label=y_test)\r\n",
        "\r\n",
        "\r\n",
        "param = {'max_depth':3, \r\n",
        "         'eta':1, \r\n",
        "         'objective':'multi:softprob', \r\n",
        "         'num_class':3}\r\n",
        "\r\n",
        "num_round = 5\r\n",
        "model = xgb.train(param, dmatrix_train, num_round)\r\n",
        "\r\n",
        "preds = model.predict(dmatrix_test)\r\n",
        "preds[:10]"
      ],
      "execution_count": 163,
      "outputs": [
        {
          "output_type": "execute_result",
          "data": {
            "text/plain": [
              "array([[0.9963404 , 0.00182813, 0.00183146],\n",
              "       [0.9963404 , 0.00182813, 0.00183146],\n",
              "       [0.00199098, 0.9961791 , 0.00182992],\n",
              "       [0.00199098, 0.9961791 , 0.00182992],\n",
              "       [0.00199869, 0.00184728, 0.996154  ],\n",
              "       [0.9963404 , 0.00182813, 0.00183146],\n",
              "       [0.00199098, 0.9961791 , 0.00182992],\n",
              "       [0.00199869, 0.00184728, 0.996154  ],\n",
              "       [0.9963404 , 0.00182813, 0.00183146],\n",
              "       [0.9963404 , 0.00182813, 0.00183146]], dtype=float32)"
            ]
          },
          "metadata": {
            "tags": []
          },
          "execution_count": 163
        }
      ]
    },
    {
      "cell_type": "code",
      "metadata": {
        "colab": {
          "base_uri": "https://localhost:8080/"
        },
        "id": "zB01m76ihlDT",
        "outputId": "0e027f82-d020-4076-b32b-ab64f281c3c1"
      },
      "source": [
        "best_preds = np.asarray([np.argmax(line) for line in preds])\r\n",
        "best_preds"
      ],
      "execution_count": 165,
      "outputs": [
        {
          "output_type": "execute_result",
          "data": {
            "text/plain": [
              "array([0, 0, 1, 1, 2, 0, 1, 2, 0, 0, 0, 1, 2, 1, 1, 1, 0, 0, 1, 2, 0, 2,\n",
              "       0, 0, 0, 1, 0, 0, 2, 0, 2, 1, 2, 0, 0, 1, 2, 1, 2, 1, 0, 0, 1, 0,\n",
              "       2, 2, 1, 2, 0, 0, 2, 2, 2, 0, 2, 1, 1, 1, 0, 2, 2, 0, 1, 1, 1, 2,\n",
              "       2, 1, 0, 2, 2, 0, 1, 1, 0, 2, 1, 2, 1, 2, 2, 1, 1, 1, 2, 0, 2, 1,\n",
              "       1, 1, 1, 0, 2, 2, 2, 1, 2, 2, 0, 2, 0, 1, 0, 1, 2, 1, 2, 0, 2, 1,\n",
              "       1, 1, 0, 1, 0, 1, 1, 2, 0, 2, 1, 2, 0, 1, 0, 0, 0, 2, 0, 0, 1, 2,\n",
              "       0, 1, 2, 2, 0, 0, 1, 2, 2, 1, 2, 2, 1, 2, 1, 0, 2, 0, 0, 0, 0, 2,\n",
              "       2, 1, 0, 0, 1, 1, 2, 0, 1, 2, 2, 0, 2, 2, 0, 0, 1, 1, 0, 0, 2, 2,\n",
              "       2, 1, 2, 2, 0, 2, 0, 1, 0, 2, 2, 1, 1, 0, 1, 0, 1, 1, 2, 1, 0, 0,\n",
              "       1, 1, 1, 2, 1, 0, 2, 2, 0, 2, 0, 2, 2, 2, 2, 2, 0, 0, 1, 1, 0, 0,\n",
              "       0, 1, 1, 2, 2, 1, 2, 1, 2, 1, 0, 2, 1, 1, 1, 0, 2, 2, 0, 1, 2, 2,\n",
              "       0, 1, 0, 0, 2, 1, 0, 1, 2, 1, 2, 2, 2, 1, 0, 0, 0, 1, 1, 2, 2, 1,\n",
              "       0, 0, 1, 0, 0, 0, 0, 1, 2, 2, 0, 1, 0, 2, 2, 0, 2, 1, 2, 0, 1, 1,\n",
              "       2, 0, 2, 2, 2, 2, 0, 1, 1, 1, 0, 1, 2, 0, 0, 2, 1, 1, 1, 1, 1, 2,\n",
              "       1, 0, 2, 0, 0, 1, 2, 2, 2, 1, 0, 2, 0, 0, 2, 1, 2, 1, 2, 1, 1, 0,\n",
              "       1, 2, 1, 2, 1, 1, 1, 1, 0, 1, 0, 0, 0, 0, 1, 0, 2, 2, 1, 2, 0, 2,\n",
              "       2, 0, 1, 0, 0, 2, 1, 2, 1, 2, 0, 1, 1, 1, 2, 2, 2, 1, 2, 2, 0, 1,\n",
              "       2, 1, 1, 2, 1, 1, 2, 1, 0, 2, 1, 0, 2, 2, 1, 1, 2, 0, 2, 0, 0, 1,\n",
              "       2, 0, 1, 1, 1, 0, 0, 2, 1, 2, 0, 2, 2, 2, 1, 0, 2, 1, 2, 2, 1, 1,\n",
              "       0, 0, 1, 2, 0, 1, 1, 1, 0, 0, 1, 1, 1, 2, 2, 0, 0, 0, 1, 2, 1, 0,\n",
              "       2, 0, 2, 1, 0, 1, 0, 0, 2, 1, 2, 1, 0, 2, 1, 2, 1, 1, 1, 2, 1, 0,\n",
              "       0, 0, 0, 0, 2, 0, 1, 1, 2, 0, 2, 2, 2, 0, 0, 2, 0, 0, 0, 2, 1, 2,\n",
              "       1, 2, 2, 1, 2, 1, 0, 0, 0, 0, 2, 1, 2, 2, 0, 2, 2, 1, 0, 0, 2, 1,\n",
              "       2, 1, 0, 2, 0, 2, 0, 1, 2, 2, 0, 0, 0, 1, 2, 0, 0, 2, 0, 1, 0, 2,\n",
              "       1, 0, 2, 1, 2, 0, 0, 2, 1, 2, 0, 1, 1, 1, 2, 1, 1, 2, 0, 0, 0, 1,\n",
              "       2, 0, 2, 1, 1, 2, 0, 0, 1, 1, 2, 0, 1, 0, 0, 2, 0, 2, 2, 1, 1, 2,\n",
              "       0, 0, 1, 1, 2, 0, 1, 2, 1, 0, 2, 0, 1, 1, 1, 1, 1, 1, 0, 2, 2, 0,\n",
              "       1, 0, 2, 2, 0, 0])"
            ]
          },
          "metadata": {
            "tags": []
          },
          "execution_count": 165
        }
      ]
    },
    {
      "cell_type": "code",
      "metadata": {
        "colab": {
          "base_uri": "https://localhost:8080/"
        },
        "id": "f8_Llxe07qOS",
        "outputId": "bbad1763-1ea3-4119-f682-594b5d9e9aae"
      },
      "source": [
        "#Evaluate your result on both train and test set. Analyse if there is any underfitting or overfitting problem. Make your comments.\r\n",
        "from sklearn.metrics import precision_score, recall_score, accuracy_score, classification_report, f1_score\r\n",
        "pred = clf.predict(X_test)\r\n",
        "print(classification_report(y_test,pred))"
      ],
      "execution_count": 166,
      "outputs": [
        {
          "output_type": "stream",
          "text": [
            "              precision    recall  f1-score   support\n",
            "\n",
            "           0       1.00      0.99      1.00       196\n",
            "           1       1.00      1.00      1.00       201\n",
            "           2       1.00      1.00      1.00       203\n",
            "\n",
            "    accuracy                           1.00       600\n",
            "   macro avg       1.00      1.00      1.00       600\n",
            "weighted avg       1.00      1.00      1.00       600\n",
            "\n"
          ],
          "name": "stdout"
        }
      ]
    },
    {
      "cell_type": "code",
      "metadata": {
        "colab": {
          "base_uri": "https://localhost:8080/"
        },
        "id": "n5KnrE8k7ypL",
        "outputId": "9525638e-3853-4c5b-9e47-431796f4e38b"
      },
      "source": [
        "print(\"Precision = {}\".format(precision_score(y_test, pred, average='macro')))\r\n",
        "print(\"Recall = {}\".format(recall_score(y_test, pred, average='macro')))\r\n",
        "print(\"Accuracy = {}\".format(accuracy_score(y_test, pred)))\r\n",
        "print(\"F1 Score = {}\".format(f1_score(y_test, pred,average='macro')))"
      ],
      "execution_count": 167,
      "outputs": [
        {
          "output_type": "stream",
          "text": [
            "Precision = 0.9983498349834984\n",
            "Recall = 0.9982993197278912\n",
            "Accuracy = 0.9983333333333333\n",
            "F1 Score = 0.998320355221601\n"
          ],
          "name": "stdout"
        }
      ]
    },
    {
      "cell_type": "markdown",
      "metadata": {
        "id": "uvaBJ4t7-0IJ"
      },
      "source": [
        "When we look at the outlines test and training data and bias , we won't have a underfitting and overfitting problem.\r\n",
        "\r\n"
      ]
    }
  ]
}